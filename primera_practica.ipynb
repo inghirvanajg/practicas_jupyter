{
 "cells": [
  {
   "cell_type": "code",
   "execution_count": 2,
   "id": "c825b597",
   "metadata": {},
   "outputs": [
    {
     "name": "stdout",
     "output_type": "stream",
     "text": [
      "Escribe tu nombre: Hirvana J\n",
      "Hola Hirvana J, felicidades haz ingresado correctamente\n"
     ]
    }
   ],
   "source": [
    "#mi primer programa \n",
    "nombre = input(\"Escribe tu nombre: \")\n",
    "print(\"Hola \" + nombre + \", felicidades haz ingresado correctamente\")"
   ]
  },
  {
   "cell_type": "code",
   "execution_count": 3,
   "id": "65680b64",
   "metadata": {},
   "outputs": [
    {
     "data": {
      "text/plain": [
       "9"
      ]
     },
     "execution_count": 3,
     "metadata": {},
     "output_type": "execute_result"
    }
   ],
   "source": [
    "#definir mi propia función\n",
    "def sumar(a, b): \n",
    "    return a + b \n",
    "sumar(5,4)"
   ]
  },
  {
   "cell_type": "code",
   "execution_count": 7,
   "id": "e84ccf68",
   "metadata": {},
   "outputs": [
    {
     "name": "stdout",
     "output_type": "stream",
     "text": [
      "Suma:  14\n",
      "Multiplicación:  56\n",
      "Exponencial 512\n"
     ]
    }
   ],
   "source": [
    "#realizar operaciones matemáticas\n",
    "suma = 5 + 9\n",
    "print(\"Suma: \",suma)\n",
    "mult = 7 * 8\n",
    "print(\"Multiplicación: \",mult)\n",
    "exp = 8**3\n",
    "print(\"Exponencial\",exp)"
   ]
  },
  {
   "cell_type": "code",
   "execution_count": 15,
   "id": "02274b0b",
   "metadata": {},
   "outputs": [
    {
     "name": "stdout",
     "output_type": "stream",
     "text": [
      "1.0\n"
     ]
    }
   ],
   "source": [
    "#importar librerias como numpy \n",
    "import math as m \n",
    "a = 90 #valor en radianes\n",
    "seno = m.sin(a*m.pi/180) #convertir de radianes a grados\n",
    "print(seno)"
   ]
  },
  {
   "cell_type": "code",
   "execution_count": 28,
   "id": "1ff040e4",
   "metadata": {},
   "outputs": [
    {
     "name": "stdout",
     "output_type": "stream",
     "text": [
      "[0, 1, 2, 3, 4, 5]\n",
      "3\n",
      "[0, 1, 2, 3]\n",
      "['UK', 'USA', 'Mexico', 'Japon', 'China']\n",
      "['UK', 'USA', 'Mexico']\n",
      "['USA', 'Mexico']\n"
     ]
    }
   ],
   "source": [
    "#listas \n",
    "list_1 = [0,1,2,3,4,5]\n",
    "print(list_1)\n",
    "print(list_1[3])\n",
    "print(list_1[:4])\n",
    "list_countries = ['UK', 'USA', 'Mexico', 'Japon', 'China']\n",
    "print(list_countries)\n",
    "print(list_countries[0:3])\n",
    "print(list_countries[1:3])"
   ]
  },
  {
   "cell_type": "code",
   "execution_count": 39,
   "id": "fcf9c011",
   "metadata": {},
   "outputs": [
    {
     "data": {
      "text/plain": [
       "'Hirvana'"
      ]
     },
     "execution_count": 39,
     "metadata": {},
     "output_type": "execute_result"
    }
   ],
   "source": [
    "#diccionarios\n",
    "\n",
    "dicc = {'nombre': 'Hirvana', 'apellido': 'Juárez', 'edad': '25', 'estado': 'Tlaxcala'}\n",
    "dicc['nombre']"
   ]
  },
  {
   "cell_type": "code",
   "execution_count": 15,
   "id": "88169e18",
   "metadata": {},
   "outputs": [
    {
     "name": "stdout",
     "output_type": "stream",
     "text": [
      "a= [[1 2]\n",
      " [3 4]]\n"
     ]
    }
   ],
   "source": [
    "#Arrays \n",
    "import numpy as np\n",
    "arreglo_1 = np.array([[1,2],[3,4]])\n",
    "print(\"a=\", arreglo_1)"
   ]
  },
  {
   "cell_type": "code",
   "execution_count": 12,
   "id": "cc190d10",
   "metadata": {},
   "outputs": [
    {
     "name": "stdout",
     "output_type": "stream",
     "text": [
      "a= [1 2 3]\n"
     ]
    }
   ],
   "source": [
    "a = np.array([1,2,3])\n",
    "print(\"a=\", a)"
   ]
  },
  {
   "cell_type": "code",
   "execution_count": 14,
   "id": "5022c3ea",
   "metadata": {},
   "outputs": [
    {
     "name": "stdout",
     "output_type": "stream",
     "text": [
      "b= [[5 6]\n",
      " [7 8]]\n"
     ]
    }
   ],
   "source": [
    "b = np.array([(5,6),(7,8)])\n",
    "print(\"b=\", b)"
   ]
  },
  {
   "cell_type": "code",
   "execution_count": 25,
   "id": "b2446151",
   "metadata": {},
   "outputs": [
    {
     "name": "stdout",
     "output_type": "stream",
     "text": [
      "a1 [5 6 7]\n",
      "a2 [2 4 6]\n",
      "a3 [0.84147098 0.90929743 0.14112001]\n",
      "\n",
      "a4= [[0.5        3.14159265]\n",
      " [1.57079633 0.78539816]]\n",
      "\n",
      "a5= [[4.79425539e-01 1.22464680e-16]\n",
      " [1.00000000e+00 7.07106781e-01]]\n",
      "\n",
      "a6= [[-0.69314718  1.14472989]\n",
      " [ 0.45158271 -0.24156448]]\n"
     ]
    }
   ],
   "source": [
    "#operaciones con arreglos\n",
    "a1 = a + 4\n",
    "print(\"a1\", a1)\n",
    "a2 = a * 2\n",
    "print(\"a2\", a2)\n",
    "a3 = np.sin(a)\n",
    "print(\"a3\", a3)\n",
    "\n",
    "a4 = np.array([[0.5,np.pi],[np.pi/2,np.pi/4]])\n",
    "print(\"\")\n",
    "print(\"a4=\",a4)\n",
    "print(\"\")\n",
    "a5 = np.sin(a4)\n",
    "print(\"a5=\",a5)\n",
    "print(\"\")\n",
    "a6 = np.log(a4)\n",
    "print(\"a6=\",a6)"
   ]
  },
  {
   "cell_type": "code",
   "execution_count": 32,
   "id": "307ce3c4",
   "metadata": {},
   "outputs": [
    {
     "name": "stdout",
     "output_type": "stream",
     "text": [
      "[-3.+4.j]\n"
     ]
    }
   ],
   "source": [
    "c = np.array([1+2j])\n",
    "print(c*c)"
   ]
  },
  {
   "cell_type": "code",
   "execution_count": 37,
   "id": "f17baa00",
   "metadata": {},
   "outputs": [
    {
     "name": "stdout",
     "output_type": "stream",
     "text": [
      "[[0. 0. 0. 0.]\n",
      " [0. 0. 0. 0.]\n",
      " [0. 0. 0. 0.]\n",
      " [0. 0. 0. 0.]]\n",
      "[[1. 1. 1.]\n",
      " [1. 1. 1.]\n",
      " [1. 1. 1.]]\n"
     ]
    }
   ],
   "source": [
    "f = np.zeros([4,4])\n",
    "print(f)\n",
    "\n",
    "g = np.ones([3,3])\n",
    "print(g)"
   ]
  },
  {
   "cell_type": "code",
   "execution_count": 1,
   "id": "9b2eb574",
   "metadata": {},
   "outputs": [],
   "source": [
    "import sys"
   ]
  },
  {
   "cell_type": "code",
   "execution_count": null,
   "id": "d4554da3",
   "metadata": {},
   "outputs": [],
   "source": []
  },
  {
   "cell_type": "code",
   "execution_count": null,
   "id": "2c4f4534",
   "metadata": {},
   "outputs": [],
   "source": []
  }
 ],
 "metadata": {
  "kernelspec": {
   "display_name": "Python 3 (ipykernel)",
   "language": "python",
   "name": "python3"
  },
  "language_info": {
   "codemirror_mode": {
    "name": "ipython",
    "version": 3
   },
   "file_extension": ".py",
   "mimetype": "text/x-python",
   "name": "python",
   "nbconvert_exporter": "python",
   "pygments_lexer": "ipython3",
   "version": "3.9.13"
  }
 },
 "nbformat": 4,
 "nbformat_minor": 5
}
