{
 "cells": [
  {
   "cell_type": "code",
   "execution_count": 7,
   "id": "f6f4d980",
   "metadata": {},
   "outputs": [
    {
     "name": "stdout",
     "output_type": "stream",
     "text": [
      "<_io.TextIOWrapper name='t_file.txt' mode='r' encoding='cp1252'>\n"
     ]
    }
   ],
   "source": [
    "document = open('t_file.txt')\n",
    "print(document)"
   ]
  },
  {
   "cell_type": "code",
   "execution_count": 8,
   "id": "c111cc7e",
   "metadata": {},
   "outputs": [
    {
     "name": "stdout",
     "output_type": "stream",
     "text": [
      "HOLA SOY HIRVANA\n",
      "SOY INGENIERA EN TECNOLOGIAS DE LA INFORMACION\n",
      "FRIDAY: SLEEP MUCH IN THE NIGHT\n",
      "SUNDAY: HANG OUT IN THE AFTERNOON \n",
      "SATURDAY: WATCH SERIES IN NETFLIX\n"
     ]
    }
   ],
   "source": [
    "document = open('t_file.txt')  #se aplica solamente para archivos txt\n",
    "file = document.read()\n",
    "print(file)"
   ]
  },
  {
   "cell_type": "code",
   "execution_count": 9,
   "id": "c5a1a4c8",
   "metadata": {},
   "outputs": [
    {
     "name": "stdout",
     "output_type": "stream",
     "text": [
      "HOLA SOY HIRVANA\n",
      "\n",
      "SOY INGENIERA EN TECNOLOGIAS DE LA INFORMACION\n",
      "\n",
      "FRIDAY: SLEEP MUCH IN THE NIGHT\n",
      "\n",
      "SUNDAY: HANG OUT IN THE AFTERNOON \n",
      "\n",
      "SATURDAY: WATCH SERIES IN NETFLIX\n"
     ]
    }
   ],
   "source": [
    "document = open('t_file.txt')  #se aplica solamente para archivos txt se lee el archivo con un for\n",
    "for line in document: \n",
    "    print(line)"
   ]
  },
  {
   "cell_type": "code",
   "execution_count": 10,
   "id": "673d2322",
   "metadata": {},
   "outputs": [
    {
     "name": "stdout",
     "output_type": "stream",
     "text": [
      "Línea 1\n",
      "Línea 2\n",
      "Línea 3\n",
      "Línea 4\n",
      "Línea 5\n"
     ]
    }
   ],
   "source": [
    "document = open('t_file.txt')  #cuenta las líneas del txt\n",
    "count = 0\n",
    "for line in document: \n",
    "    count = count + 1\n",
    "    print(\"Línea\", count)"
   ]
  },
  {
   "cell_type": "code",
   "execution_count": 12,
   "id": "791e83ec",
   "metadata": {},
   "outputs": [
    {
     "name": "stdout",
     "output_type": "stream",
     "text": [
      "SOY INGENIERA EN TECNOLOGIAS DE LA INFORMACION\n"
     ]
    }
   ],
   "source": [
    "document = open('t_file.txt')\n",
    "for line in document:\n",
    "    line = line.rstrip()\n",
    "    if line.startswith('SOY'):\n",
    "        print(line)"
   ]
  },
  {
   "cell_type": "code",
   "execution_count": 15,
   "id": "70236c38",
   "metadata": {},
   "outputs": [
    {
     "name": "stdout",
     "output_type": "stream",
     "text": [
      "True\n",
      "False\n",
      "False\n",
      "False\n",
      "False\n"
     ]
    }
   ],
   "source": [
    "document = open('t_file.txt') \n",
    "for line in document:\n",
    "    print(line.startswith('HOLA'))\n"
   ]
  },
  {
   "cell_type": "code",
   "execution_count": 16,
   "id": "f9a47d55",
   "metadata": {},
   "outputs": [
    {
     "name": "stdout",
     "output_type": "stream",
     "text": [
      "Resultado,         Hola soy Hirvana Juarez naci el 7 de noviembre\n"
     ]
    }
   ],
   "source": [
    "word1 = \"       Hola soy Hirvana Juarez naci el 7 de noviembre\"\n",
    "x = word1.rstrip()\n",
    "print(\"Resultado, \", x)"
   ]
  },
  {
   "cell_type": "code",
   "execution_count": 25,
   "id": "6454dd67",
   "metadata": {},
   "outputs": [],
   "source": [
    "file = open(\"t_file.txt\")\n",
    "for line in file:\n",
    "    line = line.rstrip()\n",
    "    if not line.startswith(\"IN\") :    continue\n",
    "    words = line.split()\n",
    "    print(words[2])"
   ]
  },
  {
   "cell_type": "code",
   "execution_count": null,
   "id": "c222fed4",
   "metadata": {},
   "outputs": [],
   "source": []
  }
 ],
 "metadata": {
  "kernelspec": {
   "display_name": "Python 3 (ipykernel)",
   "language": "python",
   "name": "python3"
  },
  "language_info": {
   "codemirror_mode": {
    "name": "ipython",
    "version": 3
   },
   "file_extension": ".py",
   "mimetype": "text/x-python",
   "name": "python",
   "nbconvert_exporter": "python",
   "pygments_lexer": "ipython3",
   "version": "3.9.13"
  }
 },
 "nbformat": 4,
 "nbformat_minor": 5
}
