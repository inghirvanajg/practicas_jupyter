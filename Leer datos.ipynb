{
 "cells": [
  {
   "cell_type": "code",
   "execution_count": 23,
   "id": "1d9d4e4a",
   "metadata": {},
   "outputs": [],
   "source": [
    "import pandas as pd"
   ]
  },
  {
   "cell_type": "code",
   "execution_count": 25,
   "id": "39a8f0e3",
   "metadata": {},
   "outputs": [
    {
     "name": "stdout",
     "output_type": "stream",
     "text": [
      "0 \"Email,\",\"Name,\",\"Identification,\",\"Note,\",\"Field Label 1,\",Field Label 2\n",
      "\n",
      "1 hirvanajg@gmail.com,Hirvana,INE,Hola,89,564\n",
      "\n"
     ]
    }
   ],
   "source": [
    "file1 = \"Sample-Bulk-Recipient.csv\"\n",
    "#pd.read_csv(file1)\n",
    "with open(file1, 'r') as reader:\n",
    "    for index, line in enumerate(reader.readlines()):\n",
    "        if (index < 10):\n",
    "            print(index,line)"
   ]
  },
  {
   "cell_type": "code",
   "execution_count": null,
   "id": "e69e8d34",
   "metadata": {},
   "outputs": [],
   "source": []
  }
 ],
 "metadata": {
  "kernelspec": {
   "display_name": "Python 3 (ipykernel)",
   "language": "python",
   "name": "python3"
  },
  "language_info": {
   "codemirror_mode": {
    "name": "ipython",
    "version": 3
   },
   "file_extension": ".py",
   "mimetype": "text/x-python",
   "name": "python",
   "nbconvert_exporter": "python",
   "pygments_lexer": "ipython3",
   "version": "3.9.13"
  }
 },
 "nbformat": 4,
 "nbformat_minor": 5
}
