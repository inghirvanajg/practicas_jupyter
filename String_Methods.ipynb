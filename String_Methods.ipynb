{
 "cells": [
  {
   "cell_type": "code",
   "execution_count": 61,
   "id": "d1b01de1",
   "metadata": {},
   "outputs": [
    {
     "name": "stdout",
     "output_type": "stream",
     "text": [
      "a\n"
     ]
    }
   ],
   "source": [
    "fruit = 'banana'\n",
    "x = fruit[1]\n",
    "print(x)"
   ]
  },
  {
   "cell_type": "markdown",
   "id": "7ab84bd9",
   "metadata": {},
   "source": [
    "# INSERT INTO LIST "
   ]
  },
  {
   "cell_type": "markdown",
   "id": "f54d618e",
   "metadata": {},
   "source": [
    "## APPEND AND INSERT METHOD"
   ]
  },
  {
   "cell_type": "code",
   "execution_count": 46,
   "id": "c5248293",
   "metadata": {},
   "outputs": [
    {
     "data": {
      "text/plain": [
       "['cherry', 'watermelon', 'apple', 'pineapple', 'melon']"
      ]
     },
     "execution_count": 46,
     "metadata": {},
     "output_type": "execute_result"
    }
   ],
   "source": [
    "list = [\"cherry\",\"watermelon\",\"apple\",\"pineapple\"]\n",
    "list.append(\"melon\")\n",
    "list"
   ]
  },
  {
   "cell_type": "code",
   "execution_count": 53,
   "id": "4ee27e00",
   "metadata": {},
   "outputs": [
    {
     "data": {
      "text/plain": [
       "['peach',\n",
       " 'peach',\n",
       " 'pear',\n",
       " 'cherry',\n",
       " 'banana',\n",
       " 'watermelon',\n",
       " 'apple',\n",
       " 'pineapple',\n",
       " 'melon']"
      ]
     },
     "execution_count": 53,
     "metadata": {},
     "output_type": "execute_result"
    }
   ],
   "source": [
    "list.insert(4,\"banana\")\n",
    "list"
   ]
  },
  {
   "cell_type": "markdown",
   "id": "083d04b9",
   "metadata": {},
   "source": [
    "## SPLIT METHOD"
   ]
  },
  {
   "cell_type": "code",
   "execution_count": 5,
   "id": "c1cf3526",
   "metadata": {},
   "outputs": [
    {
     "name": "stdout",
     "output_type": "stream",
     "text": [
      "lar@freecodecamp.org\n"
     ]
    }
   ],
   "source": [
    "words = 'His e-mail is q-lar@freecodecamp.org'\n",
    "pieces = words.split()\n",
    "parts = pieces[3].split('-')\n",
    "n = parts[1]\n",
    "print(n)"
   ]
  },
  {
   "cell_type": "code",
   "execution_count": 26,
   "id": "d62cae0a",
   "metadata": {},
   "outputs": [
    {
     "data": {
      "text/plain": [
       "['With']"
      ]
     },
     "execution_count": 26,
     "metadata": {},
     "output_type": "execute_result"
    }
   ],
   "source": [
    "abc = \"With three words\"\n",
    "s = abc.split()\n",
    "n = s[0].split(\",\")\n",
    "n"
   ]
  },
  {
   "cell_type": "code",
   "execution_count": 23,
   "id": "32be9975",
   "metadata": {},
   "outputs": [
    {
     "data": {
      "text/plain": [
       "['apple', 'banana#cherry#orange']"
      ]
     },
     "execution_count": 23,
     "metadata": {},
     "output_type": "execute_result"
    }
   ],
   "source": [
    "txt = \"apple#banana#cherry#orange\"\n",
    "x = txt.split(\"#\",1)\n",
    "x"
   ]
  },
  {
   "cell_type": "code",
   "execution_count": 27,
   "id": "8c32638f",
   "metadata": {},
   "outputs": [
    {
     "name": "stdout",
     "output_type": "stream",
     "text": [
      "['apple', 'banana', 'cherry', 'orange']\n"
     ]
    }
   ],
   "source": [
    "txt = \"apple#banana#cherry#orange\"\n",
    "x = txt.split(\"#\")\n",
    "print(x)"
   ]
  },
  {
   "cell_type": "code",
   "execution_count": 30,
   "id": "890dfcd2",
   "metadata": {},
   "outputs": [
    {
     "name": "stdout",
     "output_type": "stream",
     "text": [
      "['hello', 'my name is Peter', 'I am 26 years old']\n"
     ]
    }
   ],
   "source": [
    "txt = \"hello, my name is Peter, I am 26 years old\"\n",
    "y = txt.split(\", \")\n",
    "print(y)"
   ]
  },
  {
   "cell_type": "code",
   "execution_count": 34,
   "id": "6ef17c9f",
   "metadata": {},
   "outputs": [
    {
     "name": "stdout",
     "output_type": "stream",
     "text": [
      "['hello', 'my name is Hirvana', 'I am 25 years old']\n"
     ]
    }
   ],
   "source": [
    "txt = \"hello#my name is Hirvana#I am 25 years old\"\n",
    "h = txt.split(\"#\")\n",
    "print(h)\n"
   ]
  },
  {
   "cell_type": "code",
   "execution_count": 62,
   "id": "05e87d60",
   "metadata": {},
   "outputs": [
    {
     "name": "stdout",
     "output_type": "stream",
     "text": [
      "['A', 'lot', 'of', 'spaces']\n"
     ]
    }
   ],
   "source": [
    "line = 'A lot       of spaces'\n",
    "etc = line.split()\n",
    "print(etc)"
   ]
  },
  {
   "cell_type": "code",
   "execution_count": 83,
   "id": "be558e71",
   "metadata": {},
   "outputs": [
    {
     "name": "stdout",
     "output_type": "stream",
     "text": [
      "['first;second;third']\n"
     ]
    }
   ],
   "source": [
    "line = 'first;second;third'\n",
    "t = line.split()\n",
    "print(t)"
   ]
  },
  {
   "cell_type": "code",
   "execution_count": 84,
   "id": "57e88816",
   "metadata": {},
   "outputs": [
    {
     "name": "stdout",
     "output_type": "stream",
     "text": [
      "1\n"
     ]
    }
   ],
   "source": [
    "print(len(t))"
   ]
  },
  {
   "cell_type": "code",
   "execution_count": 85,
   "id": "99a27360",
   "metadata": {},
   "outputs": [
    {
     "name": "stdout",
     "output_type": "stream",
     "text": [
      "['first', 'second', 'third']\n"
     ]
    }
   ],
   "source": [
    "t2 = line.split(\";\")\n",
    "print(t2)"
   ]
  },
  {
   "cell_type": "code",
   "execution_count": 86,
   "id": "844ac886",
   "metadata": {},
   "outputs": [
    {
     "name": "stdout",
     "output_type": "stream",
     "text": [
      "3\n"
     ]
    }
   ],
   "source": [
    "print(len(t2))"
   ]
  },
  {
   "cell_type": "code",
   "execution_count": null,
   "id": "be1ec59a",
   "metadata": {},
   "outputs": [],
   "source": []
  }
 ],
 "metadata": {
  "kernelspec": {
   "display_name": "Python 3 (ipykernel)",
   "language": "python",
   "name": "python3"
  },
  "language_info": {
   "codemirror_mode": {
    "name": "ipython",
    "version": 3
   },
   "file_extension": ".py",
   "mimetype": "text/x-python",
   "name": "python",
   "nbconvert_exporter": "python",
   "pygments_lexer": "ipython3",
   "version": "3.9.13"
  }
 },
 "nbformat": 4,
 "nbformat_minor": 5
}
