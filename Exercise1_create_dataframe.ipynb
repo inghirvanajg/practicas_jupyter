{
 "cells": [
  {
   "cell_type": "markdown",
   "id": "2d28a41f",
   "metadata": {},
   "source": [
    "# CREAR UN DATAFRAME"
   ]
  },
  {
   "cell_type": "markdown",
   "id": "c93b60d2",
   "metadata": {},
   "source": [
    "## 1 Primera opción para crear un dataframe "
   ]
  },
  {
   "cell_type": "code",
   "execution_count": 2,
   "id": "1dfa190f",
   "metadata": {},
   "outputs": [],
   "source": [
    "import pandas as pd\n",
    "import numpy as np"
   ]
  },
  {
   "cell_type": "code",
   "execution_count": 3,
   "id": "44f881e4",
   "metadata": {},
   "outputs": [],
   "source": [
    "data_1 = np.array([[7,6], [1,4], [5,9]])"
   ]
  },
  {
   "cell_type": "code",
   "execution_count": 5,
   "id": "bf19c4e9",
   "metadata": {},
   "outputs": [],
   "source": [
    "df = pd.DataFrame(data_1, \n",
    "                  index=['row1','row2','row3'], \n",
    "                  columns=['col1','col2'])"
   ]
  },
  {
   "cell_type": "code",
   "execution_count": 6,
   "id": "5064928f",
   "metadata": {},
   "outputs": [
    {
     "data": {
      "text/html": [
       "<div>\n",
       "<style scoped>\n",
       "    .dataframe tbody tr th:only-of-type {\n",
       "        vertical-align: middle;\n",
       "    }\n",
       "\n",
       "    .dataframe tbody tr th {\n",
       "        vertical-align: top;\n",
       "    }\n",
       "\n",
       "    .dataframe thead th {\n",
       "        text-align: right;\n",
       "    }\n",
       "</style>\n",
       "<table border=\"1\" class=\"dataframe\">\n",
       "  <thead>\n",
       "    <tr style=\"text-align: right;\">\n",
       "      <th></th>\n",
       "      <th>col1</th>\n",
       "      <th>col2</th>\n",
       "    </tr>\n",
       "  </thead>\n",
       "  <tbody>\n",
       "    <tr>\n",
       "      <th>row1</th>\n",
       "      <td>7</td>\n",
       "      <td>6</td>\n",
       "    </tr>\n",
       "    <tr>\n",
       "      <th>row2</th>\n",
       "      <td>1</td>\n",
       "      <td>4</td>\n",
       "    </tr>\n",
       "    <tr>\n",
       "      <th>row3</th>\n",
       "      <td>5</td>\n",
       "      <td>9</td>\n",
       "    </tr>\n",
       "  </tbody>\n",
       "</table>\n",
       "</div>"
      ],
      "text/plain": [
       "      col1  col2\n",
       "row1     7     6\n",
       "row2     1     4\n",
       "row3     5     9"
      ]
     },
     "execution_count": 6,
     "metadata": {},
     "output_type": "execute_result"
    }
   ],
   "source": [
    "df"
   ]
  },
  {
   "cell_type": "markdown",
   "id": "045959fe",
   "metadata": {},
   "source": [
    "## 2 Segunda opción para crear un dataframe "
   ]
  },
  {
   "cell_type": "code",
   "execution_count": 8,
   "id": "26775a20",
   "metadata": {},
   "outputs": [],
   "source": [
    "data_2 = [[7,6], [1,4], [5,9]]"
   ]
  },
  {
   "cell_type": "code",
   "execution_count": 9,
   "id": "9a68e4be",
   "metadata": {},
   "outputs": [],
   "source": [
    "df_2 = pd.DataFrame(data_2, \n",
    "                    index=['row1','row2','row3'], \n",
    "                    columns=['col1','col2'])"
   ]
  },
  {
   "cell_type": "code",
   "execution_count": 10,
   "id": "117f6d24",
   "metadata": {},
   "outputs": [
    {
     "data": {
      "text/html": [
       "<div>\n",
       "<style scoped>\n",
       "    .dataframe tbody tr th:only-of-type {\n",
       "        vertical-align: middle;\n",
       "    }\n",
       "\n",
       "    .dataframe tbody tr th {\n",
       "        vertical-align: top;\n",
       "    }\n",
       "\n",
       "    .dataframe thead th {\n",
       "        text-align: right;\n",
       "    }\n",
       "</style>\n",
       "<table border=\"1\" class=\"dataframe\">\n",
       "  <thead>\n",
       "    <tr style=\"text-align: right;\">\n",
       "      <th></th>\n",
       "      <th>col1</th>\n",
       "      <th>col2</th>\n",
       "    </tr>\n",
       "  </thead>\n",
       "  <tbody>\n",
       "    <tr>\n",
       "      <th>row1</th>\n",
       "      <td>7</td>\n",
       "      <td>6</td>\n",
       "    </tr>\n",
       "    <tr>\n",
       "      <th>row2</th>\n",
       "      <td>1</td>\n",
       "      <td>4</td>\n",
       "    </tr>\n",
       "    <tr>\n",
       "      <th>row3</th>\n",
       "      <td>5</td>\n",
       "      <td>9</td>\n",
       "    </tr>\n",
       "  </tbody>\n",
       "</table>\n",
       "</div>"
      ],
      "text/plain": [
       "      col1  col2\n",
       "row1     7     6\n",
       "row2     1     4\n",
       "row3     5     9"
      ]
     },
     "execution_count": 10,
     "metadata": {},
     "output_type": "execute_result"
    }
   ],
   "source": [
    "df_2"
   ]
  }
 ],
 "metadata": {
  "kernelspec": {
   "display_name": "Python 3 (ipykernel)",
   "language": "python",
   "name": "python3"
  },
  "language_info": {
   "codemirror_mode": {
    "name": "ipython",
    "version": 3
   },
   "file_extension": ".py",
   "mimetype": "text/x-python",
   "name": "python",
   "nbconvert_exporter": "python",
   "pygments_lexer": "ipython3",
   "version": "3.9.13"
  }
 },
 "nbformat": 4,
 "nbformat_minor": 5
}
