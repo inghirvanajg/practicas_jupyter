{
 "cells": [
  {
   "cell_type": "markdown",
   "id": "f20f9af3",
   "metadata": {},
   "source": [
    "# 4 LISTAS"
   ]
  },
  {
   "cell_type": "code",
   "execution_count": 2,
   "id": "fbbb24b9",
   "metadata": {},
   "outputs": [],
   "source": [
    "countries = ['United States', 'China', 'Suize', 'Japan']"
   ]
  },
  {
   "cell_type": "code",
   "execution_count": 3,
   "id": "af018738",
   "metadata": {},
   "outputs": [
    {
     "data": {
      "text/plain": [
       "['United States', 'China', 'Suize', 'Japan']"
      ]
     },
     "execution_count": 3,
     "metadata": {},
     "output_type": "execute_result"
    }
   ],
   "source": [
    "countries"
   ]
  },
  {
   "cell_type": "code",
   "execution_count": 4,
   "id": "6882ad3d",
   "metadata": {},
   "outputs": [
    {
     "data": {
      "text/plain": [
       "'United States'"
      ]
     },
     "execution_count": 4,
     "metadata": {},
     "output_type": "execute_result"
    }
   ],
   "source": [
    "countries[0]"
   ]
  },
  {
   "cell_type": "code",
   "execution_count": 5,
   "id": "6db582a8",
   "metadata": {},
   "outputs": [
    {
     "data": {
      "text/plain": [
       "'Japan'"
      ]
     },
     "execution_count": 5,
     "metadata": {},
     "output_type": "execute_result"
    }
   ],
   "source": [
    "countries[-1]"
   ]
  },
  {
   "cell_type": "code",
   "execution_count": 6,
   "id": "a88bbf50",
   "metadata": {},
   "outputs": [
    {
     "data": {
      "text/plain": [
       "'United States'"
      ]
     },
     "execution_count": 6,
     "metadata": {},
     "output_type": "execute_result"
    }
   ],
   "source": [
    "countries[-4]"
   ]
  },
  {
   "cell_type": "code",
   "execution_count": 7,
   "id": "f6b2aa82",
   "metadata": {},
   "outputs": [
    {
     "data": {
      "text/plain": [
       "['China', 'Suize', 'Japan']"
      ]
     },
     "execution_count": 7,
     "metadata": {},
     "output_type": "execute_result"
    }
   ],
   "source": [
    "countries[1:]"
   ]
  },
  {
   "cell_type": "code",
   "execution_count": 8,
   "id": "04e65949",
   "metadata": {},
   "outputs": [
    {
     "data": {
      "text/plain": [
       "['United States', 'China']"
      ]
     },
     "execution_count": 8,
     "metadata": {},
     "output_type": "execute_result"
    }
   ],
   "source": [
    "countries[:2]"
   ]
  },
  {
   "cell_type": "code",
   "execution_count": 9,
   "id": "cd4aab60",
   "metadata": {},
   "outputs": [
    {
     "data": {
      "text/plain": [
       "['United States', 'China', 'Suize', 'Japan']"
      ]
     },
     "execution_count": 9,
     "metadata": {},
     "output_type": "execute_result"
    }
   ],
   "source": [
    "countries"
   ]
  },
  {
   "cell_type": "code",
   "execution_count": 12,
   "id": "f76f3207",
   "metadata": {},
   "outputs": [
    {
     "data": {
      "text/plain": [
       "['United States', 'China', 'Suize', 'Japan', 'UK', 'UK', 'UK']"
      ]
     },
     "execution_count": 12,
     "metadata": {},
     "output_type": "execute_result"
    }
   ],
   "source": [
    "countries.append('UK')\n",
    "countries"
   ]
  },
  {
   "cell_type": "code",
   "execution_count": 13,
   "id": "3292f8c8",
   "metadata": {},
   "outputs": [],
   "source": [
    "countries.insert(0,'Canada')"
   ]
  },
  {
   "cell_type": "code",
   "execution_count": 14,
   "id": "53f36f92",
   "metadata": {},
   "outputs": [
    {
     "data": {
      "text/plain": [
       "['Canada', 'United States', 'China', 'Suize', 'Japan', 'UK', 'UK', 'UK']"
      ]
     },
     "execution_count": 14,
     "metadata": {},
     "output_type": "execute_result"
    }
   ],
   "source": [
    "countries"
   ]
  },
  {
   "cell_type": "code",
   "execution_count": 38,
   "id": "d9dc80c2",
   "metadata": {},
   "outputs": [
    {
     "data": {
      "text/plain": [
       "'UK'"
      ]
     },
     "execution_count": 38,
     "metadata": {},
     "output_type": "execute_result"
    }
   ],
   "source": [
    "countries.pop()"
   ]
  },
  {
   "cell_type": "code",
   "execution_count": 16,
   "id": "8a0d2bf2",
   "metadata": {},
   "outputs": [
    {
     "data": {
      "text/plain": [
       "['Canada', 'United States', 'China', 'Suize', 'Japan', 'UK', 'UK']"
      ]
     },
     "execution_count": 16,
     "metadata": {},
     "output_type": "execute_result"
    }
   ],
   "source": [
    "countries"
   ]
  },
  {
   "cell_type": "code",
   "execution_count": 17,
   "id": "13898e48",
   "metadata": {},
   "outputs": [
    {
     "data": {
      "text/plain": [
       "['Canada', 'United States', 'China', 'Suize', 'Japan', 'UK', 'UK']"
      ]
     },
     "execution_count": 17,
     "metadata": {},
     "output_type": "execute_result"
    }
   ],
   "source": [
    "countries_2 = ['Mexico', 'Brazil', 'France', 'Austria']\n",
    "countries"
   ]
  },
  {
   "cell_type": "code",
   "execution_count": 18,
   "id": "e974b815",
   "metadata": {},
   "outputs": [
    {
     "data": {
      "text/plain": [
       "['Canada',\n",
       " 'United States',\n",
       " 'China',\n",
       " 'Suize',\n",
       " 'Japan',\n",
       " 'UK',\n",
       " 'UK',\n",
       " 'Mexico',\n",
       " 'Brazil',\n",
       " 'France',\n",
       " 'Austria']"
      ]
     },
     "execution_count": 18,
     "metadata": {},
     "output_type": "execute_result"
    }
   ],
   "source": [
    "countries + countries_2"
   ]
  },
  {
   "cell_type": "code",
   "execution_count": 19,
   "id": "f0536bbf",
   "metadata": {},
   "outputs": [],
   "source": [
    "new_list_countries = [countries + countries_2]"
   ]
  },
  {
   "cell_type": "code",
   "execution_count": 20,
   "id": "3b08b5a7",
   "metadata": {},
   "outputs": [
    {
     "data": {
      "text/plain": [
       "[['Canada',\n",
       "  'United States',\n",
       "  'China',\n",
       "  'Suize',\n",
       "  'Japan',\n",
       "  'UK',\n",
       "  'UK',\n",
       "  'Mexico',\n",
       "  'Brazil',\n",
       "  'France',\n",
       "  'Austria']]"
      ]
     },
     "execution_count": 20,
     "metadata": {},
     "output_type": "execute_result"
    }
   ],
   "source": [
    "new_list_countries"
   ]
  },
  {
   "cell_type": "markdown",
   "id": "ae4a3986",
   "metadata": {},
   "source": [
    "## 4.2 Agregar elementos a las listas"
   ]
  },
  {
   "cell_type": "code",
   "execution_count": 21,
   "id": "e5e69d53",
   "metadata": {},
   "outputs": [
    {
     "data": {
      "text/plain": [
       "['Canada', 'United States', 'China', 'Suize', 'Japan', 'UK', 'UK']"
      ]
     },
     "execution_count": 21,
     "metadata": {},
     "output_type": "execute_result"
    }
   ],
   "source": [
    "countries"
   ]
  },
  {
   "cell_type": "code",
   "execution_count": 22,
   "id": "65468d8f",
   "metadata": {},
   "outputs": [],
   "source": [
    "countries.insert(1, 'Germany')"
   ]
  },
  {
   "cell_type": "code",
   "execution_count": 23,
   "id": "40ab132a",
   "metadata": {},
   "outputs": [
    {
     "data": {
      "text/plain": [
       "['Canada', 'Germany', 'United States', 'China', 'Suize', 'Japan', 'UK', 'UK']"
      ]
     },
     "execution_count": 23,
     "metadata": {},
     "output_type": "execute_result"
    }
   ],
   "source": [
    "countries"
   ]
  },
  {
   "cell_type": "code",
   "execution_count": 24,
   "id": "ddc6cda3",
   "metadata": {},
   "outputs": [],
   "source": [
    "countries.append('Nueva Zelanda')"
   ]
  },
  {
   "cell_type": "code",
   "execution_count": 25,
   "id": "96992e04",
   "metadata": {},
   "outputs": [
    {
     "data": {
      "text/plain": [
       "['Canada',\n",
       " 'Germany',\n",
       " 'United States',\n",
       " 'China',\n",
       " 'Suize',\n",
       " 'Japan',\n",
       " 'UK',\n",
       " 'UK',\n",
       " 'Nueva Zelanda']"
      ]
     },
     "execution_count": 25,
     "metadata": {},
     "output_type": "execute_result"
    }
   ],
   "source": [
    "countries"
   ]
  },
  {
   "cell_type": "markdown",
   "id": "16a3b68c",
   "metadata": {},
   "source": [
    "# 4.3 Eliminar elementos"
   ]
  },
  {
   "cell_type": "code",
   "execution_count": 26,
   "id": "f1b2735e",
   "metadata": {},
   "outputs": [],
   "source": [
    "del countries[6]"
   ]
  },
  {
   "cell_type": "code",
   "execution_count": 27,
   "id": "28dee3dd",
   "metadata": {},
   "outputs": [
    {
     "data": {
      "text/plain": [
       "['Canada',\n",
       " 'Germany',\n",
       " 'United States',\n",
       " 'China',\n",
       " 'Suize',\n",
       " 'Japan',\n",
       " 'UK',\n",
       " 'Nueva Zelanda']"
      ]
     },
     "execution_count": 27,
     "metadata": {},
     "output_type": "execute_result"
    }
   ],
   "source": [
    "countries"
   ]
  },
  {
   "cell_type": "code",
   "execution_count": 28,
   "id": "c7b418ae",
   "metadata": {},
   "outputs": [],
   "source": [
    "countries.append('Australia')"
   ]
  },
  {
   "cell_type": "code",
   "execution_count": 29,
   "id": "102a4098",
   "metadata": {},
   "outputs": [
    {
     "data": {
      "text/plain": [
       "['Canada',\n",
       " 'Germany',\n",
       " 'United States',\n",
       " 'China',\n",
       " 'Suize',\n",
       " 'Japan',\n",
       " 'UK',\n",
       " 'Nueva Zelanda',\n",
       " 'Australia']"
      ]
     },
     "execution_count": 29,
     "metadata": {},
     "output_type": "execute_result"
    }
   ],
   "source": [
    "countries"
   ]
  },
  {
   "cell_type": "code",
   "execution_count": 32,
   "id": "1145a3cd",
   "metadata": {},
   "outputs": [],
   "source": [
    "countries.remove('Australia')"
   ]
  },
  {
   "cell_type": "code",
   "execution_count": 33,
   "id": "01983e16",
   "metadata": {},
   "outputs": [
    {
     "data": {
      "text/plain": [
       "['Canada',\n",
       " 'Germany',\n",
       " 'United States',\n",
       " 'China',\n",
       " 'Suize',\n",
       " 'Japan',\n",
       " 'UK',\n",
       " 'Nueva Zelanda']"
      ]
     },
     "execution_count": 33,
     "metadata": {},
     "output_type": "execute_result"
    }
   ],
   "source": [
    "countries"
   ]
  },
  {
   "cell_type": "code",
   "execution_count": 34,
   "id": "ab83d618",
   "metadata": {},
   "outputs": [
    {
     "data": {
      "text/plain": [
       "'Nueva Zelanda'"
      ]
     },
     "execution_count": 34,
     "metadata": {},
     "output_type": "execute_result"
    }
   ],
   "source": [
    "countries.pop()"
   ]
  },
  {
   "cell_type": "code",
   "execution_count": 35,
   "id": "118658b9",
   "metadata": {},
   "outputs": [
    {
     "data": {
      "text/plain": [
       "['Canada', 'Germany', 'United States', 'China', 'Suize', 'Japan', 'UK']"
      ]
     },
     "execution_count": 35,
     "metadata": {},
     "output_type": "execute_result"
    }
   ],
   "source": [
    "countries"
   ]
  },
  {
   "cell_type": "code",
   "execution_count": 36,
   "id": "e16069f3",
   "metadata": {},
   "outputs": [],
   "source": [
    "countries.remove('China')"
   ]
  },
  {
   "cell_type": "code",
   "execution_count": 37,
   "id": "bbb1db37",
   "metadata": {},
   "outputs": [
    {
     "data": {
      "text/plain": [
       "['Canada', 'Germany', 'United States', 'Suize', 'Japan', 'UK']"
      ]
     },
     "execution_count": 37,
     "metadata": {},
     "output_type": "execute_result"
    }
   ],
   "source": [
    "countries"
   ]
  },
  {
   "cell_type": "code",
   "execution_count": 39,
   "id": "f155fb79",
   "metadata": {},
   "outputs": [
    {
     "data": {
      "text/plain": [
       "'Suize'"
      ]
     },
     "execution_count": 39,
     "metadata": {},
     "output_type": "execute_result"
    }
   ],
   "source": [
    "countries.pop(3)"
   ]
  },
  {
   "cell_type": "code",
   "execution_count": 40,
   "id": "b33364f7",
   "metadata": {},
   "outputs": [
    {
     "data": {
      "text/plain": [
       "['Canada', 'Germany', 'United States', 'Japan']"
      ]
     },
     "execution_count": 40,
     "metadata": {},
     "output_type": "execute_result"
    }
   ],
   "source": [
    "countries"
   ]
  },
  {
   "cell_type": "markdown",
   "id": "981df719",
   "metadata": {},
   "source": [
    "## 4.4 Ordenar listas"
   ]
  },
  {
   "cell_type": "code",
   "execution_count": 42,
   "id": "57a65627",
   "metadata": {},
   "outputs": [],
   "source": [
    "numbers_list = [4,9,6,2,7,1]"
   ]
  },
  {
   "cell_type": "code",
   "execution_count": 44,
   "id": "d7a16c1e",
   "metadata": {},
   "outputs": [],
   "source": [
    "numbers_list.sort()"
   ]
  },
  {
   "cell_type": "code",
   "execution_count": 45,
   "id": "67e5c9e0",
   "metadata": {},
   "outputs": [
    {
     "data": {
      "text/plain": [
       "[1, 2, 4, 6, 7, 9]"
      ]
     },
     "execution_count": 45,
     "metadata": {},
     "output_type": "execute_result"
    }
   ],
   "source": [
    "numbers_list"
   ]
  },
  {
   "cell_type": "code",
   "execution_count": 47,
   "id": "d0c08255",
   "metadata": {},
   "outputs": [],
   "source": [
    "numbers_list.sort(reverse=True)"
   ]
  },
  {
   "cell_type": "code",
   "execution_count": 48,
   "id": "91ee538a",
   "metadata": {},
   "outputs": [
    {
     "data": {
      "text/plain": [
       "[9, 7, 6, 4, 2, 1]"
      ]
     },
     "execution_count": 48,
     "metadata": {},
     "output_type": "execute_result"
    }
   ],
   "source": [
    "numbers_list"
   ]
  },
  {
   "cell_type": "markdown",
   "id": "3c7d62fa",
   "metadata": {},
   "source": [
    "## 4.5 Copiar listas"
   ]
  },
  {
   "cell_type": "code",
   "execution_count": 49,
   "id": "e5cb110c",
   "metadata": {},
   "outputs": [],
   "source": [
    "lista_copia = countries.copy()"
   ]
  },
  {
   "cell_type": "code",
   "execution_count": 50,
   "id": "bde12d4d",
   "metadata": {},
   "outputs": [
    {
     "data": {
      "text/plain": [
       "['Canada', 'Germany', 'United States', 'Japan']"
      ]
     },
     "execution_count": 50,
     "metadata": {},
     "output_type": "execute_result"
    }
   ],
   "source": [
    "lista_copia"
   ]
  },
  {
   "cell_type": "code",
   "execution_count": 51,
   "id": "fbc3d111",
   "metadata": {},
   "outputs": [],
   "source": [
    "lista_nueva = countries[:]"
   ]
  },
  {
   "cell_type": "code",
   "execution_count": 52,
   "id": "3808b89e",
   "metadata": {},
   "outputs": [
    {
     "data": {
      "text/plain": [
       "['Canada', 'Germany', 'United States', 'Japan']"
      ]
     },
     "execution_count": 52,
     "metadata": {},
     "output_type": "execute_result"
    }
   ],
   "source": [
    "lista_nueva"
   ]
  },
  {
   "cell_type": "markdown",
   "id": "7d9a0ce1",
   "metadata": {},
   "source": [
    "# DICCIONARIOS"
   ]
  },
  {
   "cell_type": "code",
   "execution_count": 57,
   "id": "ed72cf06",
   "metadata": {},
   "outputs": [],
   "source": [
    "primer_diccionario = {'español': '\"gato\",\"perro\",\"ratón\"'}"
   ]
  },
  {
   "cell_type": "code",
   "execution_count": 58,
   "id": "f72fb2b7",
   "metadata": {},
   "outputs": [
    {
     "data": {
      "text/plain": [
       "{'español': '\"gato\",\"perro\",\"ratón\"'}"
      ]
     },
     "execution_count": 58,
     "metadata": {},
     "output_type": "execute_result"
    }
   ],
   "source": [
    "primer_diccionario"
   ]
  },
  {
   "cell_type": "code",
   "execution_count": 37,
   "id": "c17fff7d",
   "metadata": {},
   "outputs": [],
   "source": [
    "segundo_diccionario = {'español': '\"gato\", \"perro\", \"ratón\"','ingles': '\"cat\", \"dog\", \"mouse\"'}"
   ]
  },
  {
   "cell_type": "code",
   "execution_count": 38,
   "id": "3204be05",
   "metadata": {},
   "outputs": [
    {
     "data": {
      "text/plain": [
       "{'español': '\"gato\", \"perro\", \"ratón\"', 'ingles': '\"cat\", \"dog\", \"mouse\"'}"
      ]
     },
     "execution_count": 38,
     "metadata": {},
     "output_type": "execute_result"
    }
   ],
   "source": [
    "segundo_diccionario"
   ]
  },
  {
   "cell_type": "code",
   "execution_count": 77,
   "id": "8a3c9f2f",
   "metadata": {},
   "outputs": [
    {
     "data": {
      "text/plain": [
       "'\"cat\", \"dog\", \"mouse\"'"
      ]
     },
     "execution_count": 77,
     "metadata": {},
     "output_type": "execute_result"
    }
   ],
   "source": [
    "segundo_diccionario['ingles']"
   ]
  },
  {
   "cell_type": "code",
   "execution_count": 3,
   "id": "f80bf6ac",
   "metadata": {},
   "outputs": [
    {
     "data": {
      "text/plain": [
       "{'español': '\"gato\", \"perro\", \"ratón\"', 'ingles': '\"cat\", \"dog\", \"mouse\"'}"
      ]
     },
     "execution_count": 3,
     "metadata": {},
     "output_type": "execute_result"
    }
   ],
   "source": [
    "segundo_diccionario"
   ]
  },
  {
   "cell_type": "code",
   "execution_count": 6,
   "id": "8bf0c065",
   "metadata": {},
   "outputs": [
    {
     "data": {
      "text/plain": [
       "dict_keys(['español', 'ingles'])"
      ]
     },
     "execution_count": 6,
     "metadata": {},
     "output_type": "execute_result"
    }
   ],
   "source": [
    "segundo_diccionario.keys() #método regresa las llaves que tiene un diccionario"
   ]
  },
  {
   "cell_type": "code",
   "execution_count": 7,
   "id": "3fbc5488",
   "metadata": {},
   "outputs": [
    {
     "data": {
      "text/plain": [
       "dict_values(['\"gato\", \"perro\", \"ratón\"', '\"cat\", \"dog\", \"mouse\"'])"
      ]
     },
     "execution_count": 7,
     "metadata": {},
     "output_type": "execute_result"
    }
   ],
   "source": [
    "segundo_diccionario.values()  #método regresa los valores del diccionario"
   ]
  },
  {
   "cell_type": "code",
   "execution_count": 8,
   "id": "a19c4bce",
   "metadata": {},
   "outputs": [
    {
     "data": {
      "text/plain": [
       "dict_items([('español', '\"gato\", \"perro\", \"ratón\"'), ('ingles', '\"cat\", \"dog\", \"mouse\"')])"
      ]
     },
     "execution_count": 8,
     "metadata": {},
     "output_type": "execute_result"
    }
   ],
   "source": [
    "segundo_diccionario.items()   #método que busca los items del diccionario, regresando las llaves y valores"
   ]
  },
  {
   "cell_type": "markdown",
   "id": "d937da23",
   "metadata": {},
   "source": [
    "## 5.1 Agregar / actualizar elementos"
   ]
  },
  {
   "cell_type": "code",
   "execution_count": 23,
   "id": "07a0c88b",
   "metadata": {},
   "outputs": [
    {
     "data": {
      "text/plain": [
       "[{'frances': 'chien'}]"
      ]
     },
     "execution_count": 23,
     "metadata": {},
     "output_type": "execute_result"
    }
   ],
   "source": [
    "segundo_diccionario"
   ]
  },
  {
   "cell_type": "code",
   "execution_count": 25,
   "id": "24162142",
   "metadata": {},
   "outputs": [
    {
     "data": {
      "text/plain": [
       "dict_keys(['español', 'ingles'])"
      ]
     },
     "execution_count": 25,
     "metadata": {},
     "output_type": "execute_result"
    }
   ],
   "source": [
    "segundo_diccionario.keys()"
   ]
  },
  {
   "cell_type": "code",
   "execution_count": 26,
   "id": "1628363b",
   "metadata": {},
   "outputs": [
    {
     "data": {
      "text/plain": [
       "dict_values(['\"gato\", \"perro\", \"ratón\"', '\"cat\", \"dog\", \"mouse\"'])"
      ]
     },
     "execution_count": 26,
     "metadata": {},
     "output_type": "execute_result"
    }
   ],
   "source": [
    "segundo_diccionario.values()"
   ]
  },
  {
   "cell_type": "code",
   "execution_count": 43,
   "id": "e4b18e47",
   "metadata": {},
   "outputs": [],
   "source": [
    "segundo_diccionario.update({'frances':['chien','chat','sourcie']})"
   ]
  },
  {
   "cell_type": "code",
   "execution_count": 44,
   "id": "0c7a00d7",
   "metadata": {},
   "outputs": [
    {
     "data": {
      "text/plain": [
       "{'español': '\"gato\", \"perro\", \"ratón\"',\n",
       " 'ingles': '\"cat\", \"dog\", \"mouse\"',\n",
       " 'frances': ['chien', 'chat', 'sourcie']}"
      ]
     },
     "execution_count": 44,
     "metadata": {},
     "output_type": "execute_result"
    }
   ],
   "source": [
    "segundo_diccionario "
   ]
  },
  {
   "cell_type": "code",
   "execution_count": 45,
   "id": "0a6f20a4",
   "metadata": {},
   "outputs": [],
   "source": [
    "segundo_diccionario['aleman'] = 'hund'"
   ]
  },
  {
   "cell_type": "code",
   "execution_count": 46,
   "id": "365400f0",
   "metadata": {},
   "outputs": [
    {
     "data": {
      "text/plain": [
       "{'español': '\"gato\", \"perro\", \"ratón\"',\n",
       " 'ingles': '\"cat\", \"dog\", \"mouse\"',\n",
       " 'frances': ['chien', 'chat', 'sourcie'],\n",
       " 'aleman': 'hund'}"
      ]
     },
     "execution_count": 46,
     "metadata": {},
     "output_type": "execute_result"
    }
   ],
   "source": [
    "segundo_diccionario"
   ]
  },
  {
   "cell_type": "markdown",
   "id": "5aa50a35",
   "metadata": {},
   "source": [
    "## 5.1 Hacer copia del diccionario"
   ]
  },
  {
   "cell_type": "code",
   "execution_count": 48,
   "id": "f41722fd",
   "metadata": {},
   "outputs": [],
   "source": [
    "copia_diccionario = segundo_diccionario.copy()"
   ]
  },
  {
   "cell_type": "code",
   "execution_count": 55,
   "id": "bd97c6ef",
   "metadata": {},
   "outputs": [
    {
     "data": {
      "text/plain": [
       "{'español': '\"gato\", \"perro\", \"ratón\"',\n",
       " 'ingles': '\"cat\", \"dog\", \"mouse\"',\n",
       " 'frances': ['chien', 'chat', 'sourcie'],\n",
       " 'aleman': 'hund'}"
      ]
     },
     "execution_count": 55,
     "metadata": {},
     "output_type": "execute_result"
    }
   ],
   "source": [
    "copia_diccionario"
   ]
  },
  {
   "cell_type": "markdown",
   "id": "d9c7dc6c",
   "metadata": {},
   "source": [
    "## 5.2 Eliminar "
   ]
  },
  {
   "cell_type": "code",
   "execution_count": 50,
   "id": "47c662c9",
   "metadata": {},
   "outputs": [
    {
     "data": {
      "text/plain": [
       "'hund'"
      ]
     },
     "execution_count": 50,
     "metadata": {},
     "output_type": "execute_result"
    }
   ],
   "source": [
    "segundo_diccionario.pop('aleman')"
   ]
  },
  {
   "cell_type": "code",
   "execution_count": 51,
   "id": "83573545",
   "metadata": {},
   "outputs": [
    {
     "data": {
      "text/plain": [
       "{'español': '\"gato\", \"perro\", \"ratón\"',\n",
       " 'ingles': '\"cat\", \"dog\", \"mouse\"',\n",
       " 'frances': ['chien', 'chat', 'sourcie']}"
      ]
     },
     "execution_count": 51,
     "metadata": {},
     "output_type": "execute_result"
    }
   ],
   "source": [
    "segundo_diccionario"
   ]
  },
  {
   "cell_type": "code",
   "execution_count": 53,
   "id": "1cca84c3",
   "metadata": {},
   "outputs": [],
   "source": [
    "del segundo_diccionario['frances']"
   ]
  },
  {
   "cell_type": "code",
   "execution_count": 57,
   "id": "b6b1fff6",
   "metadata": {},
   "outputs": [
    {
     "data": {
      "text/plain": [
       "{'español': '\"gato\", \"perro\", \"ratón\"', 'ingles': '\"cat\", \"dog\", \"mouse\"'}"
      ]
     },
     "execution_count": 57,
     "metadata": {},
     "output_type": "execute_result"
    }
   ],
   "source": [
    "segundo_diccionario"
   ]
  },
  {
   "cell_type": "code",
   "execution_count": 61,
   "id": "1b115d9d",
   "metadata": {},
   "outputs": [],
   "source": [
    "segundo_diccionario.clear()"
   ]
  },
  {
   "cell_type": "code",
   "execution_count": 62,
   "id": "b48a7fb4",
   "metadata": {},
   "outputs": [
    {
     "data": {
      "text/plain": [
       "{}"
      ]
     },
     "execution_count": 62,
     "metadata": {},
     "output_type": "execute_result"
    }
   ],
   "source": [
    "segundo_diccionario"
   ]
  },
  {
   "cell_type": "markdown",
   "id": "f1d5be85",
   "metadata": {},
   "source": [
    "# 6 IF- ELIF-ELSE"
   ]
  },
  {
   "cell_type": "code",
   "execution_count": 98,
   "id": "ddfb9e5c",
   "metadata": {},
   "outputs": [
    {
     "name": "stdout",
     "output_type": "stream",
     "text": [
      "Eres un niño aún\n"
     ]
    }
   ],
   "source": [
    "edad = 5\n",
    "if edad >=18: \n",
    "    print(\"Eres mayor de edad\")\n",
    "elif edad >=12: \n",
    "    print(\"Eres menor de edad\")\n",
    "else: \n",
    "    print(\"Eres un niño aún\")"
   ]
  },
  {
   "cell_type": "code",
   "execution_count": 101,
   "id": "ee89bafd",
   "metadata": {},
   "outputs": [
    {
     "name": "stdout",
     "output_type": "stream",
     "text": [
      "No tienes descuento\n"
     ]
    }
   ],
   "source": [
    "edad = 13\n",
    "\n",
    "if edad >=60:\n",
    "    print(\"Descuento del INAPAM\")\n",
    "#elif edad >=26:\n",
    "  #  print(\"Descuento por ser maestro\")\n",
    "elif 17<=edad<=30:\n",
    "    print(\"Descuento facultativo\")\n",
    "elif 0<=edad<=12:\n",
    "    print(\"Descuento por ser niño\")\n",
    "else: \n",
    "    print(\"No tienes descuento\")"
   ]
  },
  {
   "cell_type": "code",
   "execution_count": 1,
   "id": "a50f4703",
   "metadata": {},
   "outputs": [],
   "source": [
    "countries = ['United States', 'China', 'Suize', 'Japan']"
   ]
  },
  {
   "cell_type": "code",
   "execution_count": 105,
   "id": "447c4287",
   "metadata": {},
   "outputs": [
    {
     "name": "stdout",
     "output_type": "stream",
     "text": [
      "El país no está en la lista\n"
     ]
    }
   ],
   "source": [
    "if \"Mexico\" in countries: \n",
    "    print(\"El país está en la lista\")\n",
    "else: \n",
    "    print(\"El país no está en la lista\")"
   ]
  },
  {
   "cell_type": "markdown",
   "id": "1d4ff8a4",
   "metadata": {},
   "source": [
    "# 7 FOR "
   ]
  },
  {
   "cell_type": "code",
   "execution_count": 3,
   "id": "84955955",
   "metadata": {},
   "outputs": [
    {
     "name": "stdout",
     "output_type": "stream",
     "text": [
      "United States\n",
      "China\n",
      "Suize\n",
      "Japan\n"
     ]
    }
   ],
   "source": [
    "for pais in countries: \n",
    "    print(pais)"
   ]
  },
  {
   "cell_type": "code",
   "execution_count": 9,
   "id": "547f4345",
   "metadata": {},
   "outputs": [
    {
     "name": "stdout",
     "output_type": "stream",
     "text": [
      "0\n",
      "United States\n",
      "1\n",
      "China\n",
      "2\n",
      "Suize\n",
      "3\n",
      "Japan\n"
     ]
    }
   ],
   "source": [
    "for numero, pais in enumerate(countries): \n",
    "    print(numero)\n",
    "    print(pais)"
   ]
  },
  {
   "cell_type": "code",
   "execution_count": 11,
   "id": "07ad48a4",
   "metadata": {},
   "outputs": [],
   "source": [
    "primer_diccionario = {'nombre': 'Hirvana', 'apellido': 'Juarez'}"
   ]
  },
  {
   "cell_type": "code",
   "execution_count": 13,
   "id": "b30d3162",
   "metadata": {},
   "outputs": [
    {
     "data": {
      "text/plain": [
       "dict_items([('nombre', 'Hirvana'), ('apellido', 'Juarez')])"
      ]
     },
     "execution_count": 13,
     "metadata": {},
     "output_type": "execute_result"
    }
   ],
   "source": [
    "primer_diccionario.items()"
   ]
  },
  {
   "cell_type": "code",
   "execution_count": 15,
   "id": "140f8bf6",
   "metadata": {},
   "outputs": [
    {
     "name": "stdout",
     "output_type": "stream",
     "text": [
      "nombre\n",
      "Hirvana\n",
      "apellido\n",
      "Juarez\n"
     ]
    }
   ],
   "source": [
    "for key, value in primer_diccionario.items(): \n",
    "    print(key)\n",
    "    print(value)"
   ]
  },
  {
   "cell_type": "markdown",
   "id": "5e261b4a",
   "metadata": {},
   "source": [
    "# 8 FUNCIONES"
   ]
  },
  {
   "cell_type": "markdown",
   "id": "4cfbd74f",
   "metadata": {},
   "source": [
    "## 8.1 Funciones pre-fabricadas"
   ]
  },
  {
   "cell_type": "code",
   "execution_count": 16,
   "id": "193fdab5",
   "metadata": {},
   "outputs": [
    {
     "data": {
      "text/plain": [
       "83"
      ]
     },
     "execution_count": 16,
     "metadata": {},
     "output_type": "execute_result"
    }
   ],
   "source": [
    "max([3,83,66,6])"
   ]
  },
  {
   "cell_type": "code",
   "execution_count": 18,
   "id": "2a685a59",
   "metadata": {},
   "outputs": [
    {
     "data": {
      "text/plain": [
       "1"
      ]
     },
     "execution_count": 18,
     "metadata": {},
     "output_type": "execute_result"
    }
   ],
   "source": [
    "min([3,83,66,1])"
   ]
  },
  {
   "cell_type": "code",
   "execution_count": 24,
   "id": "67d6f33b",
   "metadata": {},
   "outputs": [
    {
     "data": {
      "text/plain": [
       "5.68"
      ]
     },
     "execution_count": 24,
     "metadata": {},
     "output_type": "execute_result"
    }
   ],
   "source": [
    "round(5.678988, 2)"
   ]
  },
  {
   "cell_type": "code",
   "execution_count": 22,
   "id": "ce0ee38d",
   "metadata": {},
   "outputs": [
    {
     "data": {
      "text/plain": [
       "dict"
      ]
     },
     "execution_count": 22,
     "metadata": {},
     "output_type": "execute_result"
    }
   ],
   "source": [
    "type(primer_diccionario)"
   ]
  },
  {
   "cell_type": "code",
   "execution_count": 23,
   "id": "db4cb628",
   "metadata": {},
   "outputs": [
    {
     "data": {
      "text/plain": [
       "list"
      ]
     },
     "execution_count": 23,
     "metadata": {},
     "output_type": "execute_result"
    }
   ],
   "source": [
    "type(countries)"
   ]
  },
  {
   "cell_type": "code",
   "execution_count": 28,
   "id": "1b9ce0b3",
   "metadata": {},
   "outputs": [
    {
     "name": "stdout",
     "output_type": "stream",
     "text": [
      "2\n",
      "4\n",
      "6\n",
      "8\n"
     ]
    }
   ],
   "source": [
    "for i in range(2, 10, 2): \n",
    "    print(i)"
   ]
  },
  {
   "cell_type": "code",
   "execution_count": 32,
   "id": "5e5a0a21",
   "metadata": {},
   "outputs": [
    {
     "data": {
      "text/plain": [
       "4"
      ]
     },
     "execution_count": 32,
     "metadata": {},
     "output_type": "execute_result"
    }
   ],
   "source": [
    "len(countries)"
   ]
  },
  {
   "cell_type": "markdown",
   "id": "78931e61",
   "metadata": {},
   "source": [
    "## 8.2 Crear funciones"
   ]
  },
  {
   "cell_type": "code",
   "execution_count": 34,
   "id": "afbec5a7",
   "metadata": {},
   "outputs": [],
   "source": [
    "def restar_numero(a, b):\n",
    "    resultado_resta = b - a\n",
    "    return resultado_resta"
   ]
  },
  {
   "cell_type": "code",
   "execution_count": 37,
   "id": "1296d84a",
   "metadata": {},
   "outputs": [
    {
     "data": {
      "text/plain": [
       "3"
      ]
     },
     "execution_count": 37,
     "metadata": {},
     "output_type": "execute_result"
    }
   ],
   "source": [
    "restar_numero(5,8)"
   ]
  },
  {
   "cell_type": "markdown",
   "id": "90b154eb",
   "metadata": {},
   "source": [
    "# 9 MODULOS"
   ]
  },
  {
   "cell_type": "code",
   "execution_count": 38,
   "id": "aa6c5c4e",
   "metadata": {},
   "outputs": [],
   "source": [
    "import os"
   ]
  },
  {
   "cell_type": "code",
   "execution_count": 39,
   "id": "42d3636c",
   "metadata": {},
   "outputs": [
    {
     "data": {
      "text/plain": [
       "'C:\\\\Users\\\\hirva\\\\Documents'"
      ]
     },
     "execution_count": 39,
     "metadata": {},
     "output_type": "execute_result"
    }
   ],
   "source": [
    "os.getcwd()  #muestra la ruta en donde se encuentra el archivo"
   ]
  },
  {
   "cell_type": "code",
   "execution_count": 45,
   "id": "769d083e",
   "metadata": {},
   "outputs": [],
   "source": [
    "os.makedirs('Nueva_carpeta_2')  #crea una nueva carpeta"
   ]
  },
  {
   "cell_type": "code",
   "execution_count": 46,
   "id": "9924449b",
   "metadata": {},
   "outputs": [
    {
     "data": {
      "text/plain": [
       "['.ipynb_checkpoints',\n",
       " '.RData',\n",
       " '.Rhistory',\n",
       " 'Análisis y Visualización de Datos con Power BI-20230124T052439Z-001',\n",
       " 'Análisis y Visualización de Datos con Power BI-20230124T052439Z-001.zip',\n",
       " 'APLICACION LIBRETA VIRTUAL',\n",
       " 'Aprende a programar con python edicion 2020',\n",
       " 'Aprende a programar con python edicion 2020.zip',\n",
       " 'Aprende a Programar con Python. Practicando con Proyectos-20230124T050541Z-001',\n",
       " 'Aprende a Programar con Python. Practicando con Proyectos-20230124T050541Z-001.zip',\n",
       " 'Aprende a Programar con Python. Practicando con Proyectos-20230124T050541Z-002.zip',\n",
       " 'Aprende a Programar con Python. Practicando con Proyectos-20230124T050541Z-003.zip',\n",
       " 'Aprende a Programar con Python. Practicando con Proyectos-20230124T050541Z-004.zip',\n",
       " 'Blackmagic Design',\n",
       " 'Camtasia Studio',\n",
       " 'CLASES DE COREANO',\n",
       " 'CLOSETS',\n",
       " 'CONCIERTOS',\n",
       " 'Copia de INVENTARIO_1(V2).xlsx',\n",
       " 'CURRICULUM PLANTILLAS',\n",
       " 'CURSO APLICACION DE CHAT',\n",
       " 'CURSO DE DATA SCIENCE',\n",
       " 'CURSO DE INGLES GRATIS',\n",
       " 'CURSO DE INTRODUCCION WEB',\n",
       " 'CURSO DE JAVASCRIPT MOVISTAR',\n",
       " 'CURSO DE POWER BI ESENTIAL',\n",
       " 'CURSO DE PYTHON',\n",
       " 'CURSO REPARACION DE LAPTOPS',\n",
       " 'CV_HIRVANA_JG.pdf',\n",
       " 'Dell',\n",
       " 'desktop.ini',\n",
       " 'Ejemplo',\n",
       " 'ejemplo.py',\n",
       " 'EjemploPrueba',\n",
       " 'EJEMPLOS DE R',\n",
       " 'EJERCICIO PYTHON',\n",
       " 'EJERCICIOS DE MATEMATICAS EXCEL Y MATLAB',\n",
       " 'ENGLISH LEARN',\n",
       " 'example-d3',\n",
       " 'Example_in_Jupyter.ipynb',\n",
       " 'Exercise1.ipynb',\n",
       " 'Funciones buscarv y buscarh.xlsx',\n",
       " 'Grabaciones de sonido',\n",
       " 'HeidiSQL',\n",
       " 'IISExpress',\n",
       " 'IMAGENES DE ARETES',\n",
       " 'IMAGENES DE QUIZ',\n",
       " 'INGLES',\n",
       " 'INGLES RAPIDO',\n",
       " 'INTRODUCCION DE MACHINE LEARNING',\n",
       " 'INVENTARIO_1(V2).xlsx',\n",
       " 'INVENTARIO_ORIGINAL.xlsx',\n",
       " 'JAPONES',\n",
       " 'javascript-ajax-shopping-cart',\n",
       " 'javascript-drag-and-drop-shopping-cart',\n",
       " 'LandingPage',\n",
       " 'LEVEL 1',\n",
       " 'Mi música',\n",
       " 'Mis formas',\n",
       " 'Mis imágenes',\n",
       " 'Mis vídeos',\n",
       " 'My Web Sites',\n",
       " 'NetBeansProjects',\n",
       " 'nft-preview-card-component-main',\n",
       " 'Nueva_carpeta',\n",
       " 'Nueva_carpeta_2',\n",
       " 'PAGINA-NOVEDADES-MIAU',\n",
       " 'PALETAS DE SOMBRAS',\n",
       " 'PERRITOS',\n",
       " 'Plantillas personalizadas de Office',\n",
       " 'PlotAir.png',\n",
       " 'product-preview-card-component-main',\n",
       " 'PRODUCTOS',\n",
       " 'profile-card-component-main',\n",
       " 'PROYECTO JAVA_RESTAURANTE',\n",
       " 'PROYECTO_PAGINA_WEB_ERIZO',\n",
       " 'PROYECTO_TEMPLATE_ONE',\n",
       " 'PROYECTO_TEMPLATE_TWO',\n",
       " 'PRUEBAS-PAGINA-WEB',\n",
       " 'PRUEBA_SLIDER',\n",
       " 'PYTHON DESDE CERO',\n",
       " 'Python Scripts',\n",
       " 'RESPALDO DE CAPTURAS',\n",
       " 'SLIDER-EXAMPLE',\n",
       " 'SLIDER-EXAMPLE-2',\n",
       " 'TALLER DE PROCRASTINACION',\n",
       " 'Telegram Desktop',\n",
       " 'THE INSIDERS',\n",
       " 'VIAJE',\n",
       " 'VIDEOJUEGOS',\n",
       " 'Virtual Machines',\n",
       " 'Visual Studio 2019',\n",
       " 'Visual Studio 2022',\n",
       " 'Webinar',\n",
       " 'WEBINAR PYTHON',\n",
       " 'WEBINAR UX AND UI, REALIZE PAGE WEB',\n",
       " 'Zoom']"
      ]
     },
     "execution_count": 46,
     "metadata": {},
     "output_type": "execute_result"
    }
   ],
   "source": [
    "os.listdir()"
   ]
  }
 ],
 "metadata": {
  "kernelspec": {
   "display_name": "Python 3 (ipykernel)",
   "language": "python",
   "name": "python3"
  },
  "language_info": {
   "codemirror_mode": {
    "name": "ipython",
    "version": 3
   },
   "file_extension": ".py",
   "mimetype": "text/x-python",
   "name": "python",
   "nbconvert_exporter": "python",
   "pygments_lexer": "ipython3",
   "version": "3.9.13"
  }
 },
 "nbformat": 4,
 "nbformat_minor": 5
}
