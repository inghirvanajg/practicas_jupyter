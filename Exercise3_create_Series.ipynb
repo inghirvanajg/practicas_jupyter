{
 "cells": [
  {
   "cell_type": "markdown",
   "id": "8e7b5557",
   "metadata": {},
   "source": [
    "# 1.1 INTRODUCTION A PANDAS"
   ]
  },
  {
   "cell_type": "code",
   "execution_count": 1,
   "id": "0ae07b8d",
   "metadata": {},
   "outputs": [],
   "source": [
    "import numpy as np \n",
    "import pandas as pd"
   ]
  },
  {
   "cell_type": "code",
   "execution_count": 25,
   "id": "e7bf83f8",
   "metadata": {},
   "outputs": [
    {
     "data": {
      "text/plain": [
       "0     35.467\n",
       "1     63.951\n",
       "2     80.940\n",
       "3     60.665\n",
       "4    127.061\n",
       "5     64.511\n",
       "6    318.523\n",
       "dtype: float64"
      ]
     },
     "execution_count": 25,
     "metadata": {},
     "output_type": "execute_result"
    }
   ],
   "source": [
    "table1 = pd.Series([35.467,63.951,80.94,60.665,127.061,64.511,318.523])\n",
    "table1"
   ]
  },
  {
   "cell_type": "code",
   "execution_count": 26,
   "id": "c2cd5d89",
   "metadata": {},
   "outputs": [
    {
     "data": {
      "text/plain": [
       "0     35.467\n",
       "1     63.951\n",
       "2     80.940\n",
       "3     60.665\n",
       "4    127.061\n",
       "5     64.511\n",
       "6    318.523\n",
       "Name: G7 Population, dtype: float64"
      ]
     },
     "execution_count": 26,
     "metadata": {},
     "output_type": "execute_result"
    }
   ],
   "source": [
    "table1.name = 'G7 Population' \n",
    "table1"
   ]
  },
  {
   "cell_type": "code",
   "execution_count": 27,
   "id": "059f4bd8",
   "metadata": {},
   "outputs": [
    {
     "data": {
      "text/plain": [
       "array([ 35.467,  63.951,  80.94 ,  60.665, 127.061,  64.511, 318.523])"
      ]
     },
     "execution_count": 27,
     "metadata": {},
     "output_type": "execute_result"
    }
   ],
   "source": [
    "table1.values"
   ]
  },
  {
   "cell_type": "code",
   "execution_count": 28,
   "id": "cde1f8af",
   "metadata": {},
   "outputs": [
    {
     "data": {
      "text/plain": [
       "dtype('float64')"
      ]
     },
     "execution_count": 28,
     "metadata": {},
     "output_type": "execute_result"
    }
   ],
   "source": [
    "table1.dtype"
   ]
  },
  {
   "cell_type": "code",
   "execution_count": 20,
   "id": "ba6fefca",
   "metadata": {},
   "outputs": [
    {
     "data": {
      "text/plain": [
       "numpy.ndarray"
      ]
     },
     "execution_count": 20,
     "metadata": {},
     "output_type": "execute_result"
    }
   ],
   "source": [
    "type(table1.values)"
   ]
  },
  {
   "cell_type": "code",
   "execution_count": 21,
   "id": "c4c673fd",
   "metadata": {},
   "outputs": [
    {
     "data": {
      "text/plain": [
       "4"
      ]
     },
     "execution_count": 21,
     "metadata": {},
     "output_type": "execute_result"
    }
   ],
   "source": [
    "table1[0]"
   ]
  },
  {
   "cell_type": "code",
   "execution_count": 22,
   "id": "8828fcc1",
   "metadata": {},
   "outputs": [
    {
     "data": {
      "text/plain": [
       "5"
      ]
     },
     "execution_count": 22,
     "metadata": {},
     "output_type": "execute_result"
    }
   ],
   "source": [
    "table1[1]"
   ]
  },
  {
   "cell_type": "code",
   "execution_count": 29,
   "id": "024c3232",
   "metadata": {},
   "outputs": [
    {
     "data": {
      "text/plain": [
       "RangeIndex(start=0, stop=7, step=1)"
      ]
     },
     "execution_count": 29,
     "metadata": {},
     "output_type": "execute_result"
    }
   ],
   "source": [
    "table1.index"
   ]
  },
  {
   "cell_type": "code",
   "execution_count": 35,
   "id": "23a08d90",
   "metadata": {},
   "outputs": [],
   "source": [
    "table1.index =({\n",
    "    'Canada',\n",
    "    'France',\n",
    "    'Germany',\n",
    "    'Italy',\n",
    "    'Japan',\n",
    "    'United Kigdom',\n",
    "    'United States'\n",
    "})"
   ]
  },
  {
   "cell_type": "code",
   "execution_count": 36,
   "id": "5cade3f4",
   "metadata": {},
   "outputs": [
    {
     "data": {
      "text/plain": [
       "Germany           35.467\n",
       "United States     63.951\n",
       "Italy             80.940\n",
       "Japan             60.665\n",
       "United Kigdom    127.061\n",
       "France            64.511\n",
       "Canada           318.523\n",
       "Name: G7 Population, dtype: float64"
      ]
     },
     "execution_count": 36,
     "metadata": {},
     "output_type": "execute_result"
    }
   ],
   "source": [
    "table1"
   ]
  },
  {
   "cell_type": "code",
   "execution_count": 43,
   "id": "d898f241",
   "metadata": {},
   "outputs": [
    {
     "data": {
      "text/plain": [
       "France    64.511\n",
       "Japan     60.665\n",
       "Name: G7 Population, dtype: float64"
      ]
     },
     "execution_count": 43,
     "metadata": {},
     "output_type": "execute_result"
    }
   ],
   "source": [
    "pd.Series(table1, index = ['France','Japan'])"
   ]
  },
  {
   "cell_type": "code",
   "execution_count": 79,
   "id": "e1c16a5c",
   "metadata": {},
   "outputs": [
    {
     "data": {
      "text/plain": [
       "Germany          35.467\n",
       "United States    63.951\n",
       "Name: G7 Population, dtype: float64"
      ]
     },
     "execution_count": 79,
     "metadata": {},
     "output_type": "execute_result"
    }
   ],
   "source": [
    "table1.iloc[:2]"
   ]
  },
  {
   "cell_type": "code",
   "execution_count": 83,
   "id": "92f54c63",
   "metadata": {},
   "outputs": [
    {
     "data": {
      "text/plain": [
       "35.467"
      ]
     },
     "execution_count": 83,
     "metadata": {},
     "output_type": "execute_result"
    }
   ],
   "source": [
    "table1.iloc[0]"
   ]
  },
  {
   "cell_type": "code",
   "execution_count": 87,
   "id": "d49baec0",
   "metadata": {},
   "outputs": [
    {
     "data": {
      "text/plain": [
       "Japan             60.665\n",
       "United Kigdom    127.061\n",
       "France            64.511\n",
       "Canada           318.523\n",
       "Name: G7 Population, dtype: float64"
      ]
     },
     "execution_count": 87,
     "metadata": {},
     "output_type": "execute_result"
    }
   ],
   "source": [
    "table1['Japan': 'Canada']"
   ]
  },
  {
   "cell_type": "code",
   "execution_count": 89,
   "id": "a65df718",
   "metadata": {},
   "outputs": [
    {
     "data": {
      "text/plain": [
       "Germany          False\n",
       "United States    False\n",
       "Italy             True\n",
       "Japan            False\n",
       "United Kigdom     True\n",
       "France           False\n",
       "Canada            True\n",
       "Name: G7 Population, dtype: bool"
      ]
     },
     "execution_count": 89,
     "metadata": {},
     "output_type": "execute_result"
    }
   ],
   "source": [
    "table1 > 70"
   ]
  },
  {
   "cell_type": "code",
   "execution_count": 92,
   "id": "f1f1cd9b",
   "metadata": {},
   "outputs": [
    {
     "data": {
      "text/plain": [
       "Italy             80.940\n",
       "United Kigdom    127.061\n",
       "Canada           318.523\n",
       "Name: G7 Population, dtype: float64"
      ]
     },
     "execution_count": 92,
     "metadata": {},
     "output_type": "execute_result"
    }
   ],
   "source": [
    "table1[table1 > 70]"
   ]
  },
  {
   "cell_type": "code",
   "execution_count": 96,
   "id": "e45581de",
   "metadata": {},
   "outputs": [
    {
     "data": {
      "text/plain": [
       "107.30257142857144"
      ]
     },
     "execution_count": 96,
     "metadata": {},
     "output_type": "execute_result"
    }
   ],
   "source": [
    "table1.mean()   #calcula el promedio"
   ]
  },
  {
   "cell_type": "code",
   "execution_count": 97,
   "id": "23840fdb",
   "metadata": {},
   "outputs": [
    {
     "data": {
      "text/plain": [
       "United Kigdom    127.061\n",
       "Canada           318.523\n",
       "Name: G7 Population, dtype: float64"
      ]
     },
     "execution_count": 97,
     "metadata": {},
     "output_type": "execute_result"
    }
   ],
   "source": [
    "table1[table1 > table1.mean()]"
   ]
  },
  {
   "cell_type": "code",
   "execution_count": 101,
   "id": "c8f6b6c9",
   "metadata": {},
   "outputs": [
    {
     "data": {
      "text/plain": [
       "97.24996987121581"
      ]
     },
     "execution_count": 101,
     "metadata": {},
     "output_type": "execute_result"
    }
   ],
   "source": [
    "table1.std()  #calcula la desviación estandar"
   ]
  },
  {
   "cell_type": "code",
   "execution_count": 106,
   "id": "a89bad52",
   "metadata": {},
   "outputs": [
    {
     "data": {
      "text/plain": [
       "United States     63.951\n",
       "Italy             80.940\n",
       "Japan             60.665\n",
       "United Kigdom    127.061\n",
       "France            64.511\n",
       "Canada           318.523\n",
       "Name: G7 Population, dtype: float64"
      ]
     },
     "execution_count": 106,
     "metadata": {},
     "output_type": "execute_result"
    }
   ],
   "source": [
    "table1[(table1 > table1.mean() - table1.std()/2)  | (table1 > table1.mean() + table1.std() / 2)]"
   ]
  },
  {
   "cell_type": "code",
   "execution_count": 109,
   "id": "8f298856",
   "metadata": {},
   "outputs": [
    {
     "data": {
      "text/plain": [
       "Germany          3.568603\n",
       "United States    4.158117\n",
       "Italy            4.393708\n",
       "Japan            4.105367\n",
       "United Kigdom    4.844667\n",
       "France           4.166836\n",
       "Canada           5.763695\n",
       "Name: G7 Population, dtype: float64"
      ]
     },
     "execution_count": 109,
     "metadata": {},
     "output_type": "execute_result"
    }
   ],
   "source": [
    "np.log(table1)   #logaritmo"
   ]
  },
  {
   "cell_type": "code",
   "execution_count": 69,
   "id": "2b89ca88",
   "metadata": {},
   "outputs": [],
   "source": [
    "#otra forma de crear un diccionario\n",
    "diccionario = pd.Series([30.6,\n",
    "           30.7,\n",
    "           30.2, \n",
    "           29.5],\n",
    "           index = ['Baja California', 'Norte', 'Noreste','Oriente']   \n",
    " )"
   ]
  },
  {
   "cell_type": "code",
   "execution_count": 70,
   "id": "9abc8ffd",
   "metadata": {},
   "outputs": [
    {
     "data": {
      "text/plain": [
       "Baja California    30.6\n",
       "Norte              30.7\n",
       "Noreste            30.2\n",
       "Oriente            29.5\n",
       "dtype: float64"
      ]
     },
     "execution_count": 70,
     "metadata": {},
     "output_type": "execute_result"
    }
   ],
   "source": [
    "diccionario"
   ]
  },
  {
   "cell_type": "code",
   "execution_count": 71,
   "id": "d5bf801f",
   "metadata": {},
   "outputs": [
    {
     "data": {
      "text/plain": [
       "30.6"
      ]
     },
     "execution_count": 71,
     "metadata": {},
     "output_type": "execute_result"
    }
   ],
   "source": [
    "diccionario.iloc[0]"
   ]
  },
  {
   "cell_type": "code",
   "execution_count": 72,
   "id": "62431814",
   "metadata": {},
   "outputs": [
    {
     "data": {
      "text/plain": [
       "29.5"
      ]
     },
     "execution_count": 72,
     "metadata": {},
     "output_type": "execute_result"
    }
   ],
   "source": [
    "diccionario.iloc[3]"
   ]
  },
  {
   "cell_type": "code",
   "execution_count": 75,
   "id": "65796c85",
   "metadata": {},
   "outputs": [
    {
     "data": {
      "text/plain": [
       "Tom      8\n",
       "Kris     2\n",
       "Ahmad    5\n",
       "Beau     6\n",
       "dtype: int64"
      ]
     },
     "execution_count": 75,
     "metadata": {},
     "output_type": "execute_result"
    }
   ],
   "source": [
    "#ejemplo del curso \n",
    "certificates_earned = pd.Series(\n",
    "    [8,2,5,6],\n",
    "    index = ['Tom','Kris','Ahmad','Beau']\n",
    ")\n",
    "certificates_earned"
   ]
  },
  {
   "cell_type": "code",
   "execution_count": 111,
   "id": "571fabbc",
   "metadata": {},
   "outputs": [
    {
     "name": "stdout",
     "output_type": "stream",
     "text": [
      "Tom     8\n",
      "Beau    6\n",
      "dtype: int64\n"
     ]
    }
   ],
   "source": [
    "print(certificates_earned[certificates_earned > 5])"
   ]
  },
  {
   "cell_type": "code",
   "execution_count": 112,
   "id": "6799e838",
   "metadata": {},
   "outputs": [
    {
     "name": "stdout",
     "output_type": "stream",
     "text": [
      "Tom       True\n",
      "Kris     False\n",
      "Ahmad    False\n",
      "Beau      True\n",
      "dtype: bool\n"
     ]
    }
   ],
   "source": [
    "print(certificates_earned > 5)"
   ]
  },
  {
   "cell_type": "code",
   "execution_count": null,
   "id": "97deff26",
   "metadata": {},
   "outputs": [],
   "source": []
  }
 ],
 "metadata": {
  "kernelspec": {
   "display_name": "Python 3 (ipykernel)",
   "language": "python",
   "name": "python3"
  },
  "language_info": {
   "codemirror_mode": {
    "name": "ipython",
    "version": 3
   },
   "file_extension": ".py",
   "mimetype": "text/x-python",
   "name": "python",
   "nbconvert_exporter": "python",
   "pygments_lexer": "ipython3",
   "version": "3.9.13"
  }
 },
 "nbformat": 4,
 "nbformat_minor": 5
}
